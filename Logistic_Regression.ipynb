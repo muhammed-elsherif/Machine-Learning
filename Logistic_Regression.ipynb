{
 "cells": [
  {
   "cell_type": "code",
   "execution_count": null,
   "metadata": {},
   "outputs": [],
   "source": [
    "import os\n",
    "import numpy as np\n",
    "import matplotlib.pyplot as plt\n",
    "import pandas as pd\n",
    "import seaborn as sns\n",
    "import cv2\n",
    "from skimage import feature, exposure\n",
    "from sklearn.model_selection import train_test_split\n",
    "from sklearn.linear_model import LogisticRegression\n",
    "from sklearn.metrics import accuracy_score, confusion_matrix, roc_curve, roc_auc_score, classification_report\n",
    "from sklearn.preprocessing import StandardScaler, LabelEncoder\n",
    "from sklearn.utils import shuffle"
   ]
  },
  {
   "cell_type": "code",
   "execution_count": null,
   "metadata": {},
   "outputs": [],
   "source": [
    "# Function to extract HOG features from an image and visualize it\n",
    "def extract_hog_features(image):\n",
    "    # Convert the image to grayscale\n",
    "    gray_image = cv2.cvtColor(image, cv2.COLOR_BGR2RGB)\n",
    "\n",
    "    # Calculate HOG features\n",
    "    hog_features, hog_image = feature.hog(gray_image, orientations=9, pixels_per_cell=(8, 8), cells_per_block=(2, 2), visualize=True, channel_axis=-1)\n",
    "\n",
    "    # Enhance the contrast of the HOG image for better visualization\n",
    "    hog_image_rescaled = exposure.rescale_intensity(hog_image, in_range=(0, 10))\n",
    "\n",
    "    return hog_features, hog_image_rescaled"
   ]
  },
  {
   "cell_type": "code",
   "execution_count": null,
   "metadata": {},
   "outputs": [],
   "source": [
    "# Function to load and preprocess image dataset\n",
    "def load_and_preprocess_data(root_folder):\n",
    "    class_labels = []\n",
    "    images = []\n",
    "    labels = []\n",
    "\n",
    "    # Iterate through each class in the dataset\n",
    "    for label in os.listdir(root_folder):\n",
    "        class_path = os.path.join(root_folder, label)\n",
    "\n",
    "        if os.path.isdir(class_path):\n",
    "            class_labels.append(label)\n",
    "\n",
    "            # Load and preprocess each image in the class\n",
    "            for image_file in os.listdir(class_path):\n",
    "                image_path = os.path.join(class_path, image_file)\n",
    "                img = cv2.imread(image_path)  # Load image using OpenCV\n",
    "                #img = cv2.resize(img, (128, 64))  # Resize to a common size\n",
    "                hog_features, hog_image = extract_hog_features(img) # Extract HOG features and visualize\n",
    "                # Display the original and HOG images side by side\n",
    "                # fig, (ax1, ax2) = plt.subplots(1, 2, figsize=(12, 6))\n",
    "                fig, (ax1, ax2) = plt.subplots(1, 2, figsize=(2, 2), sharex=True, sharey=True)\n",
    "                ax1.imshow(cv2.cvtColor(img, cv2.COLOR_BGR2RGB), cmap=plt.cm.gray)\n",
    "                ax1.set_title(' ')\n",
    "                ax1.axis('off')\n",
    "                ax2.imshow(hog_image, cmap=plt.cm.gray)\n",
    "                ax2.set_title(f'{label} ')\n",
    "                ax2.axis('off')\n",
    "                plt.show()\n",
    "                # Append HOG features to the features list\n",
    "                images.append(hog_features)\n",
    "                # Append the label to the labels list\n",
    "                labels.append(label)\n",
    "\n",
    "    return np.array(images), np.array(labels), class_labels"
   ]
  },
  {
   "cell_type": "code",
   "execution_count": null,
   "metadata": {},
   "outputs": [],
   "source": [
    "# Load and preprocess data\n",
    "root_folder = 'C:\\\\Users\\\\youss\\\\Desktop\\\\Cats&&dogs'  # Replace with the path to your dataset\n",
    "X, y, class_labels = load_and_preprocess_data(root_folder)"
   ]
  },
  {
   "cell_type": "code",
   "execution_count": null,
   "metadata": {},
   "outputs": [],
   "source": [
    "# Use LabelEncoder to convert class names into numeric labels\n",
    "label_encoder = LabelEncoder()\n",
    "y = label_encoder.fit_transform(y)\n",
    "\n",
    "# Class Labels Converting Class Names Into Numeric Labels\n",
    "class_labels_encoded = label_encoder.fit_transform(class_labels)\n",
    "print(class_labels_encoded)"
   ]
  },
  {
   "cell_type": "markdown",
   "metadata": {},
   "source": [
    "Exploring The Dataset"
   ]
  },
  {
   "cell_type": "code",
   "execution_count": null,
   "metadata": {},
   "outputs": [],
   "source": [
    "df = pd.DataFrame(X)\n",
    "df['Label'] = y\n",
    "df = shuffle(df).reset_index(drop=True)\n",
    "\n",
    "X = df.drop(['Label'], axis=1)\n",
    "y = df['Label']\n",
    "\n",
    "df.head()"
   ]
  },
  {
   "cell_type": "code",
   "execution_count": null,
   "metadata": {},
   "outputs": [],
   "source": [
    "# Split the dataset into training and testing sets\n",
    "X_train, X_test, y_train, y_test = train_test_split(X, y, test_size=0.2 ,random_state=43)"
   ]
  },
  {
   "cell_type": "code",
   "execution_count": null,
   "metadata": {},
   "outputs": [],
   "source": [
    "# Standardize features\n",
    "scaler = StandardScaler()\n",
    "X_train = scaler.fit_transform(X_train)\n",
    "X_test = scaler.transform(X_test)"
   ]
  },
  {
   "cell_type": "markdown",
   "metadata": {},
   "source": [
    "Using Logistic Regression AS A Model"
   ]
  },
  {
   "cell_type": "code",
   "execution_count": null,
   "metadata": {},
   "outputs": [],
   "source": [
    "# Logistic Regression\n",
    "\n",
    "# Initialize and train logistic regression model\n",
    "logreg = LogisticRegression()\n",
    "logreg.fit(X_train, y_train) # x"
   ]
  },
  {
   "cell_type": "code",
   "execution_count": null,
   "metadata": {},
   "outputs": [],
   "source": [
    "# Train and Test Score\n",
    "train_score = logreg.score(X_train, y_train)\n",
    "test_score = logreg.score(X_test, y_test)"
   ]
  },
  {
   "cell_type": "code",
   "execution_count": null,
   "metadata": {},
   "outputs": [],
   "source": [
    "# Get the predicted probabilities for each class\n",
    "y_pred_prob = logreg.predict_proba(X_test) # x"
   ]
  },
  {
   "cell_type": "code",
   "execution_count": null,
   "metadata": {},
   "outputs": [],
   "source": []
  },
  {
   "cell_type": "code",
   "execution_count": null,
   "metadata": {},
   "outputs": [],
   "source": [
    "# Plot ROC curve for each class\n",
    "plt.figure()\n",
    "\n",
    "# Assuming y_pred_prob contains probabilities for each class\n",
    "for i in range(len(class_labels)):\n",
    "    fpr, tpr, _ = roc_curve(y_test == class_labels_encoded[i], y_pred_prob[:, i])\n",
    "    roc_auc = roc_auc_score(y_test == class_labels_encoded[i], y_pred_prob[:, i])\n",
    "    plt.plot(fpr, tpr, label=f'ROC curve (area = {roc_auc:.2f}) for class {class_labels[i]}')\n",
    "\n",
    "plt.plot([0, 1], [0, 1], color='navy', lw=2, linestyle='--')\n",
    "plt.xlabel('False Positive Rate')\n",
    "plt.ylabel('True Positive Rate')\n",
    "plt.title('Multiclass ROC Curve')\n",
    "plt.legend(loc=\"lower right\")\n",
    "plt.show()"
   ]
  },
  {
   "cell_type": "code",
   "execution_count": null,
   "metadata": {},
   "outputs": [],
   "source": [
    "# Print results\n",
    "print(\"Logistic Regression Accuracy:\", accuracy_logreg)\n",
    "print(\"Logistic Regression ROC AUC:\", roc_auc_logreg)\n",
    "print(classification_report(y_test, y_pred))\n",
    "print(\"Train Score:\", train_score)\n",
    "print(\"Test Score:\", test_score)"
   ]
  }
 ],
 "metadata": {
  "language_info": {
   "name": "python"
  }
 },
 "nbformat": 4,
 "nbformat_minor": 2
}
